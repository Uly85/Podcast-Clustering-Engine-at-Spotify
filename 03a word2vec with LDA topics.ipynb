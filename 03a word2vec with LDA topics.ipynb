{
 "cells": [
  {
   "cell_type": "markdown",
   "id": "f12d9be3",
   "metadata": {},
   "source": [
    "# Import Packages and Create Spark Builder"
   ]
  },
  {
   "cell_type": "code",
   "execution_count": null,
   "id": "e22a7176",
   "metadata": {},
   "outputs": [],
   "source": [
    "import pandas as pd\n",
    "import numpy as np \n",
    "import re as re\n",
    "import databricks.koalas as ks\n",
    "\n",
    "from pyspark import SparkContext\n",
    "from pyspark.sql import SQLContext, SparkSession\n",
    "from pyspark.mllib.linalg import Vector, Vectors\n",
    "from pyspark.ml.clustering import LDA, LDAModel\n",
    "from pyspark.ml.feature import CountVectorizer, IDF\n",
    "from pyspark.ml.feature import RegexTokenizer, StopWordsRemover, Word2Vec\n",
    "\n",
    "from nltk.stem.wordnet import WordNetLemmatizer\n",
    "from nltk.corpus import stopwords"
   ]
  },
  {
   "cell_type": "code",
   "execution_count": null,
   "id": "809511f2",
   "metadata": {},
   "outputs": [],
   "source": [
    "spark = SparkSession\\\n",
    "    .builder\\\n",
    "    .master(\"local[*]\")\\\n",
    "    .appName(\"SpotifyPodcastClassification\")\\\n",
    "    .config('spark.driver.memory', '24g')\\\n",
    "    .getOrCreate()"
   ]
  },
  {
   "cell_type": "markdown",
   "id": "f27a5fed",
   "metadata": {},
   "source": [
    "# 1. Read full data\n",
    "## 1.1 Podcasts data"
   ]
  },
  {
   "cell_type": "code",
   "execution_count": null,
   "id": "7bc14438",
   "metadata": {},
   "outputs": [],
   "source": [
    "podcasts_df = spark.read.options(inferSchema='True',delimiter=',',header='True') \\\n",
    "                               .csv(\"../script_output/02_final_dat.csv\")\n",
    "podcasts_df.count()"
   ]
  },
  {
   "cell_type": "markdown",
   "id": "7312f9ea",
   "metadata": {},
   "source": [
    "105153"
   ]
  },
  {
   "cell_type": "code",
   "execution_count": null,
   "id": "13cf0ced",
   "metadata": {},
   "outputs": [],
   "source": [
    "podcasts_df = podcasts_df.select('episode_uri', 'show_description')\n",
    "podcasts_df.show(5)"
   ]
  },
  {
   "cell_type": "markdown",
   "id": "d36096f8",
   "metadata": {},
   "source": [
    "+--------------------+--------------------+\n",
    "|         episode_uri|    show_description|\n",
    "+--------------------+--------------------+\n",
    "|spotify:episode:0...|A 20-something bl...|\n",
    "|spotify:episode:0...|Ever wonder what ...|\n",
    "|spotify:episode:0...|Inside the 18 is ...|\n",
    "|spotify:episode:0...|Your favorite pod...|\n",
    "|spotify:episode:0...|The comedy podcas...|\n",
    "+--------------------+--------------------+\n",
    "only showing top 5 rows\n"
   ]
  },
  {
   "cell_type": "markdown",
   "id": "8c8546bb",
   "metadata": {},
   "source": [
    "## 1.2 LDA result data (topics in each cluster)"
   ]
  },
  {
   "cell_type": "code",
   "execution_count": null,
   "id": "e3d61cea",
   "metadata": {},
   "outputs": [],
   "source": [
    "clusters_df = spark.read.options(inferSchema='True', delimiter=',', header='True')\\\n",
    "    .csv('../script_output/02_LDA_topics.csv')\n",
    "clusters_kdf = clusters_df.to_koalas()\n",
    "clusters_kdf.head()"
   ]
  },
  {
   "cell_type": "markdown",
   "id": "b1455120",
   "metadata": {},
   "source": [
    "\ttopic_0\ttopic_1\ttopic_2\ttopic_3\ttopic_4\n",
    "0\tfun facts\tsocial media\ttrue crime\tmental health\tpop culture\n",
    "1\tstories fun\ttalk things\tcover art\tthink optimal\tlaw attraction\n",
    "2\tkid kid\tpersonal development\taudio experience\tdaily audioblog\tweight loss\n",
    "3\tparent time\tanswer question\thelp revise\taudioblog blogcast\tbest sell\n",
    "4\tkid hear\ttip trick\tcore components\tdaily audioblog blogcast\trelate topics\n"
   ]
  },
  {
   "cell_type": "markdown",
   "id": "0f58e15a",
   "metadata": {},
   "source": [
    "# 2. Functions"
   ]
  },
  {
   "cell_type": "code",
   "execution_count": null,
   "id": "0e9baf6d",
   "metadata": {},
   "outputs": [],
   "source": [
    "def cossim(v1, v2): \n",
    "    return np.dot(v1, v2) / np.sqrt(np.dot(v1, v1)) / (np.sqrt(np.dot(v2, v2))+.1)\n"
   ]
  },
  {
   "cell_type": "markdown",
   "id": "de1fea2a",
   "metadata": {},
   "source": [
    "# 3. Apply Regex Tokenizer and StopWord Remover"
   ]
  },
  {
   "cell_type": "code",
   "execution_count": null,
   "id": "1fdd1a8f",
   "metadata": {},
   "outputs": [],
   "source": [
    "regextok = RegexTokenizer(gaps = False, pattern = '\\w+', \n",
    "                          inputCol = 'show_description', outputCol = 'tokens')\n",
    "stopwrmv = StopWordsRemover(inputCol = 'tokens', outputCol = 'tokens_sw_removed')\n",
    "\n",
    "podcasts_df = regextok.transform(podcasts_df)\n",
    "podcasts_df = stopwrmv.transform(podcasts_df)\n",
    "podcasts_df.show()"
   ]
  },
  {
   "cell_type": "markdown",
   "id": "acf58647",
   "metadata": {},
   "source": [
    "+--------------------+--------------------+--------------------+--------------------+\n",
    "|         episode_uri|    show_description|              tokens|   tokens_sw_removed|\n",
    "+--------------------+--------------------+--------------------+--------------------+\n",
    "|spotify:episode:0...|A 20-something bl...|[a, 20, something...|[20, something, b...|\n",
    "|spotify:episode:0...|Ever wonder what ...|[ever, wonder, wh...|[ever, wonder, mu...|\n",
    "|spotify:episode:0...|Inside the 18 is ...|[inside, the, 18,...|[inside, 18, sour...|\n",
    "|spotify:episode:0...|Your favorite pod...|[your, favorite, ...|[favorite, podcas...|\n",
    "|spotify:episode:0...|The comedy podcas...|[the, comedy, pod...|[comedy, podcast,...|\n",
    "|spotify:episode:0...|Podcasts useful f...|[podcasts, useful...|[podcasts, useful...|\n",
    "|spotify:episode:0...|Enter the world o...|[enter, the, worl...|[enter, world, do...|\n",
    "|spotify:episode:0...|We are four, 30 s...|[we, are, four, 3...|[four, 30, someth...|\n",
    "|spotify:episode:0...|Get ready to whit...|[get, ready, to, ...|[get, ready, whit...|\n",
    "|spotify:episode:0...|Let’s be real and...|[let, s, be, real...|[let, real, hones...|\n",
    "|spotify:episode:0...|Behaviorbabe (aka...|[behaviorbabe, ak...|[behaviorbabe, ak...|\n",
    "|spotify:episode:0...|In dance, the poc...|[in, dance, the, ...|[dance, pocket, p...|\n",
    "|spotify:episode:0...|Welcome to the of...|[welcome, to, the...|[welcome, officia...|\n",
    "|spotify:episode:0...|Let other student...|[let, other, stud...|[let, students, h...|\n",
    "|spotify:episode:0...|Welcome to The Po...|[welcome, to, the...|[welcome, pole, d...|\n",
    "|spotify:episode:0...|The eCommerce Lif...|[the, ecommerce, ...|[ecommerce, lifes...|\n",
    "|spotify:episode:0...|Because there’s a...|[because, there, ...|[million, ways, m...|\n",
    "|spotify:episode:0...|Does music make y...|[does, music, mak...|[music, make, fee...|\n",
    "|spotify:episode:0...|Too much analytic...|[too, much, analy...|[much, analytics,...|\n",
    "|spotify:episode:0...|What does it take...|[what, does, it, ...|[take, powerful, ...|\n",
    "+--------------------+--------------------+--------------------+--------------------+\n",
    "only showing top 20 rows\n"
   ]
  },
  {
   "cell_type": "markdown",
   "id": "fd77620a",
   "metadata": {},
   "source": [
    "# 4. Train Word2Vec Model"
   ]
  },
  {
   "cell_type": "code",
   "execution_count": null,
   "id": "fd09c5e4",
   "metadata": {},
   "outputs": [],
   "source": [
    "word2vec = Word2Vec(vectorSize = 10, minCount = 2, inputCol = 'tokens_sw_removed', outputCol = 'wordvectors')\n",
    "model = word2vec.fit(podcasts_df)\n",
    "wordvectors = model.transform(podcasts_df)\n",
    "wordvectors.show(5)"
   ]
  },
  {
   "cell_type": "markdown",
   "id": "21177b4c",
   "metadata": {},
   "source": [
    "+--------------------+--------------------+--------------------+--------------------+--------------------+\n",
    "|         episode_uri|    show_description|              tokens|   tokens_sw_removed|         wordvectors|\n",
    "+--------------------+--------------------+--------------------+--------------------+--------------------+\n",
    "|spotify:episode:0...|A 20-something bl...|[a, 20, something...|[20, something, b...|[-0.0134726116795...|\n",
    "|spotify:episode:0...|Ever wonder what ...|[ever, wonder, wh...|[ever, wonder, mu...|[0.50170180455167...|\n",
    "|spotify:episode:0...|Inside the 18 is ...|[inside, the, 18,...|[inside, 18, sour...|[-0.4880954223793...|\n",
    "|spotify:episode:0...|Your favorite pod...|[your, favorite, ...|[favorite, podcas...|[-0.0872882489974...|\n",
    "|spotify:episode:0...|The comedy podcas...|[the, comedy, pod...|[comedy, podcast,...|[-0.3465767683404...|\n",
    "+--------------------+--------------------+--------------------+--------------------+--------------------+\n",
    "only showing top 5 rows"
   ]
  },
  {
   "cell_type": "code",
   "execution_count": null,
   "id": "922f5a4e",
   "metadata": {},
   "outputs": [],
   "source": [
    "podcasts_desc = wordvectors.select('episode_uri','show_description','wordvectors').rdd.toDF()\n",
    "podcasts_desc.show(5)"
   ]
  },
  {
   "cell_type": "markdown",
   "id": "0a861ad1",
   "metadata": {},
   "source": [
    "+--------------------+--------------------+--------------------+\n",
    "|         episode_uri|    show_description|         wordvectors|\n",
    "+--------------------+--------------------+--------------------+\n",
    "|spotify:episode:0...|A 20-something bl...|[-0.0134726116795...|\n",
    "|spotify:episode:0...|Ever wonder what ...|[0.50170180455167...|\n",
    "|spotify:episode:0...|Inside the 18 is ...|[-0.4880954223793...|\n",
    "|spotify:episode:0...|Your favorite pod...|[-0.0872882489974...|\n",
    "|spotify:episode:0...|The comedy podcas...|[-0.3465767683404...|\n",
    "+--------------------+--------------------+--------------------+\n",
    "only showing top 5 rows\n",
    "\n"
   ]
  },
  {
   "cell_type": "code",
   "execution_count": null,
   "id": "748e45a5",
   "metadata": {},
   "outputs": [],
   "source": [
    "chunk = podcasts_desc.take(podcasts_desc.count())"
   ]
  },
  {
   "cell_type": "markdown",
   "id": "0f36eb86",
   "metadata": {},
   "source": [
    "# 5. Export Result to Desktop due to RAM Limitation"
   ]
  },
  {
   "cell_type": "code",
   "execution_count": null,
   "id": "fc37d900",
   "metadata": {},
   "outputs": [],
   "source": [
    "for idx,i in enumerate(clusters_kdf.columns.tolist()): \n",
    "    # Build search query\n",
    "    search_query = ' '.join(clusters_kdf[i].tolist())\n",
    "    \n",
    "    # Transform search query to vectors\n",
    "    query_df  = spark.sparkContext.parallelize([(1,search_query)]).toDF(['index','show_description'])\n",
    "    query_tok = regextok.transform(query_df)\n",
    "    query_swr = stopwrmv.transform(query_tok)\n",
    "    query_vec = model.transform(query_swr)\n",
    "    query_vec = query_vec.select('wordvectors').collect()[0][0]\n",
    "    \n",
    "    sim_rdd = spark.sparkContext.parallelize((i[0], i[1], float(cossim(query_vec, i[2]))) for i in chunk)\n",
    "    sim_df  = (spark.createDataFrame(sim_rdd)\n",
    "                     .withColumnRenamed('_1', 'episode_uri')\n",
    "                     .withColumnRenamed('_2', 'show_description')\n",
    "                     .withColumnRenamed('_3', f'query_{idx}_similarity')\n",
    "                     .to_koalas())\n",
    "    \n",
    "    sim_df.to_parquet(f'/Users/christianwiloejo/Desktop/similarity_matrix_{idx}.parquet')\n",
    "    print(f\"Done with loop {idx+1}/5\")\n",
    "    # result.append(sim_df)\n",
    "    "
   ]
  },
  {
   "cell_type": "markdown",
   "id": "47bd802e",
   "metadata": {},
   "source": [
    "21/12/11 12:24:09 WARN TaskSetManager: Stage 83 contains a task of very large size (2956 KiB). The maximum recommended task size is 1000 KiB.\n",
    "21/12/11 12:24:09 WARN TaskSetManager: Stage 84 contains a task of very large size (2956 KiB). The maximum recommended task size is 1000 KiB.\n",
    "                                                                                \n",
    "Done with loop 1/5\n",
    "21/12/11 12:24:14 WARN TaskSetManager: Stage 89 contains a task of very large size (2956 KiB). The maximum recommended task size is 1000 KiB.\n",
    "21/12/11 12:24:14 WARN TaskSetManager: Stage 90 contains a task of very large size (2956 KiB). The maximum recommended task size is 1000 KiB.\n",
    "Done with loop 2/5\n",
    "21/12/11 12:24:17 WARN TaskSetManager: Stage 95 contains a task of very large size (2956 KiB). The maximum recommended task size is 1000 KiB.\n",
    "21/12/11 12:24:18 WARN TaskSetManager: Stage 96 contains a task of very large size (2956 KiB). The maximum recommended task size is 1000 KiB.\n",
    "Done with loop 3/5\n",
    "21/12/11 12:24:20 WARN TaskSetManager: Stage 101 contains a task of very large size (2956 KiB). The maximum recommended task size is 1000 KiB.\n",
    "21/12/11 12:24:21 WARN TaskSetManager: Stage 102 contains a task of very large size (2956 KiB). The maximum recommended task size is 1000 KiB.\n",
    "Done with loop 4/5\n",
    "21/12/11 12:24:24 WARN TaskSetManager: Stage 107 contains a task of very large size (2956 KiB). The maximum recommended task size is 1000 KiB.\n",
    "21/12/11 12:24:24 WARN TaskSetManager: Stage 108 contains a task of very large size (2956 KiB). The maximum recommended task size is 1000 KiB.\n",
    "Done with loop 5/5"
   ]
  },
  {
   "cell_type": "markdown",
   "id": "1df9e28f",
   "metadata": {},
   "source": [
    "# 6. Import All Result and Concatenate by Index"
   ]
  },
  {
   "cell_type": "code",
   "execution_count": null,
   "id": "d2a363f0",
   "metadata": {},
   "outputs": [],
   "source": [
    "result0 = pd.read_parquet('/Users/christianwiloejo/Desktop/similarity_matrix_0.parquet')\n",
    "result1 = pd.read_parquet('/Users/christianwiloejo/Desktop/similarity_matrix_1.parquet')\n",
    "result2 = pd.read_parquet('/Users/christianwiloejo/Desktop/similarity_matrix_2.parquet')\n",
    "result3 = pd.read_parquet('/Users/christianwiloejo/Desktop/similarity_matrix_3.parquet')\n",
    "result4 = pd.read_parquet('/Users/christianwiloejo/Desktop/similarity_matrix_4.parquet')"
   ]
  },
  {
   "cell_type": "code",
   "execution_count": null,
   "id": "555b04d6",
   "metadata": {},
   "outputs": [],
   "source": [
    "result_df = pd.concat([result0, result1, result2, result3, result4], axis = 1)\n",
    "result_df.shape"
   ]
  },
  {
   "cell_type": "markdown",
   "id": "9ddf1d9f",
   "metadata": {},
   "source": [
    "(105153, 15)"
   ]
  },
  {
   "cell_type": "code",
   "execution_count": null,
   "id": "6920673c",
   "metadata": {},
   "outputs": [],
   "source": [
    "result_df = result_df.iloc[:, [0,1,2,5,8,11,14]]\n",
    "result_df.columns = ['episode_uri', 'show_description', 'topic_0', 'topic_1', 'topic_2', 'topic_3', 'topic_4']\n",
    "result_df"
   ]
  },
  {
   "cell_type": "markdown",
   "id": "ad1dc1d4",
   "metadata": {},
   "source": [
    "\tepisode_uri\tshow_description\ttopic_0\ttopic_1\ttopic_2\ttopic_3\ttopic_4\n",
    "0\tspotify:episode:000A9sRBYdVh66csG2qEdj\tA 20-something blunt female takes on the world...\t0.325469\t0.311075\t0.165217\t0.135384\t-0.031386\n",
    "1\tspotify:episode:000HP8n3hNIfglT2wSI2cA\tEver wonder what murder took place on today in...\t0.054971\t0.154958\t0.141471\t-0.327679\t-0.588722\n",
    "2\tspotify:episode:001UfOruzkA3Bn1SPjcdfa\tInside the 18 is your source for all things Go...\t-0.373154\t-0.072368\t0.297827\t-0.170043\t-0.164945\n",
    "3\tspotify:episode:001i89SvIQgDuuyC53hfBm\tYour favorite podcast for everything @Chiefs! ...\t0.214444\t0.214337\t-0.019471\t0.216056\t-0.143863\n",
    "4\tspotify:episode:0025RWNwe2lnp6HcnfzwzG\tThe comedy podcast about toxic characters, wri...\t-0.228455\t-0.241206\t-0.255342\t0.029290\t-0.022333\n",
    "...\t...\t...\t...\t...\t...\t...\t...\n",
    "105148\tspotify:episode:7zzQnjBXqDApvnm1hLPzVY\tEach week, John Rocha and Matt Knost breakdown...\t-0.097527\t0.403032\t0.216955\t-0.088191\t0.078084\n",
    "105149\tGeorge Khalife\t\"After connecting with someone, what's the nex...\t0.225570\t0.241627\t0.254389\t0.157477\t-0.109310\n",
    "105150\t['en']\t\"Life & Peak Performance Coach. I Teach Self-R...\t0.012979\t0.627565\t0.258692\t0.183251\t0.429806\n",
    "105151\tspotify:episode:7zzoT4r0Rhffyegk2HJ9N8\tThe best & funniest independent cricket podcas...\t-0.119022\t-0.243818\t-0.151341\t-0.446955\t-0.556114\n",
    "105152\tspotify:episode:7zzq8sPfKAO4V7uIyhpbVd\tJoin this Mother-Daughter team for their weekl...\t0.103875\t0.013520\t-0.349083\t-0.053459\t-0.086903\n",
    "105153 rows × 7 columns"
   ]
  },
  {
   "cell_type": "markdown",
   "id": "0cfa3f14",
   "metadata": {},
   "source": [
    "## 6.1 Label each podcast to a cluster based on max similarity score"
   ]
  },
  {
   "cell_type": "code",
   "execution_count": null,
   "id": "ed6c5905",
   "metadata": {},
   "outputs": [],
   "source": [
    "result_df['cluster'] = result_df.iloc[:, 2:].idxmax(axis = 1)\n",
    "result_df"
   ]
  },
  {
   "cell_type": "markdown",
   "id": "5cd417fd",
   "metadata": {},
   "source": [
    "\tepisode_uri\tshow_description\ttopic_0\ttopic_1\ttopic_2\ttopic_3\ttopic_4\tcluster\n",
    "0\tspotify:episode:000A9sRBYdVh66csG2qEdj\tA 20-something blunt female takes on the world...\t0.325469\t0.311075\t0.165217\t0.135384\t-0.031386\ttopic_0\n",
    "1\tspotify:episode:000HP8n3hNIfglT2wSI2cA\tEver wonder what murder took place on today in...\t0.054971\t0.154958\t0.141471\t-0.327679\t-0.588722\ttopic_1\n",
    "2\tspotify:episode:001UfOruzkA3Bn1SPjcdfa\tInside the 18 is your source for all things Go...\t-0.373154\t-0.072368\t0.297827\t-0.170043\t-0.164945\ttopic_2\n",
    "3\tspotify:episode:001i89SvIQgDuuyC53hfBm\tYour favorite podcast for everything @Chiefs! ...\t0.214444\t0.214337\t-0.019471\t0.216056\t-0.143863\ttopic_3\n",
    "4\tspotify:episode:0025RWNwe2lnp6HcnfzwzG\tThe comedy podcast about toxic characters, wri...\t-0.228455\t-0.241206\t-0.255342\t0.029290\t-0.022333\ttopic_3\n",
    "...\t...\t...\t...\t...\t...\t...\t...\t...\n",
    "105148\tspotify:episode:7zzQnjBXqDApvnm1hLPzVY\tEach week, John Rocha and Matt Knost breakdown...\t-0.097527\t0.403032\t0.216955\t-0.088191\t0.078084\ttopic_1\n",
    "105149\tGeorge Khalife\t\"After connecting with someone, what's the nex...\t0.225570\t0.241627\t0.254389\t0.157477\t-0.109310\ttopic_2\n",
    "105150\t['en']\t\"Life & Peak Performance Coach. I Teach Self-R...\t0.012979\t0.627565\t0.258692\t0.183251\t0.429806\ttopic_1\n",
    "105151\tspotify:episode:7zzoT4r0Rhffyegk2HJ9N8\tThe best & funniest independent cricket podcas...\t-0.119022\t-0.243818\t-0.151341\t-0.446955\t-0.556114\ttopic_0\n",
    "105152\tspotify:episode:7zzq8sPfKAO4V7uIyhpbVd\tJoin this Mother-Daughter team for their weekl...\t0.103875\t0.013520\t-0.349083\t-0.053459\t-0.086903\ttopic_0\n",
    "105153 rows × 8 columns"
   ]
  },
  {
   "cell_type": "markdown",
   "id": "a6af758f",
   "metadata": {},
   "source": [
    "# 7. Join the Full Metadata for Manual Evaluation"
   ]
  },
  {
   "cell_type": "code",
   "execution_count": null,
   "id": "b4e407e8",
   "metadata": {},
   "outputs": [],
   "source": [
    "full_data = pd.read_csv('../script_output/episode_transcript_data_w_metadata.csv')\n",
    "full_data = full_data[['show_uri', 'show_name', 'publisher', 'episode_uri', 'episode_name', 'episode_description', 'transcript']]\n",
    "full_data.head()"
   ]
  },
  {
   "cell_type": "code",
   "execution_count": null,
   "id": "b66bbeb1",
   "metadata": {},
   "outputs": [],
   "source": [
    "final_result = pd.merge(result_df, full_data, on='episode_uri', how = 'left')\n",
    "print(final_result.shape)\n",
    "final_result.head()"
   ]
  },
  {
   "cell_type": "code",
   "execution_count": null,
   "id": "3e1f8c5c",
   "metadata": {},
   "outputs": [],
   "source": [
    "final_result.to_csv('../script_output/03a_lda_word2vec_final_result.csv')"
   ]
  },
  {
   "cell_type": "code",
   "execution_count": null,
   "id": "f9e61662",
   "metadata": {},
   "outputs": [],
   "source": [
    "manual_annotate_podcasts = final_result.loc[:50,['episode_uri', 'show_description', 'cluster']]\n",
    "manual_annotate_podcasts.to_csv('../script_output/03a_lda_word2vec_manually_annotate.csv', index = False)"
   ]
  }
 ],
 "metadata": {
  "kernelspec": {
   "display_name": "Python 3",
   "language": "python",
   "name": "python3"
  },
  "language_info": {
   "codemirror_mode": {
    "name": "ipython",
    "version": 3
   },
   "file_extension": ".py",
   "mimetype": "text/x-python",
   "name": "python",
   "nbconvert_exporter": "python",
   "pygments_lexer": "ipython3",
   "version": "3.8.5"
  }
 },
 "nbformat": 4,
 "nbformat_minor": 5
}
