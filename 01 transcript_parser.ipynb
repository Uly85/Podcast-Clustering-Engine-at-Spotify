{
 "cells": [
  {
   "cell_type": "markdown",
   "id": "2d7a52c6",
   "metadata": {},
   "source": [
    "# Import Libraries"
   ]
  },
  {
   "cell_type": "code",
   "execution_count": 1,
   "id": "ad140f11",
   "metadata": {},
   "outputs": [],
   "source": [
    "import pandas as pd \n",
    "import json \n",
    "import glob"
   ]
  },
  {
   "cell_type": "markdown",
   "id": "dbd3fd05",
   "metadata": {},
   "source": [
    "# Functions\n",
    "\n",
    "Function 1: Transcript parser to take json object and concatenates the segregated transcripts\n"
   ]
  },
  {
   "cell_type": "code",
   "execution_count": 2,
   "id": "62f7477c",
   "metadata": {},
   "outputs": [],
   "source": [
    "def transcript_parser(file_path):\n",
    "    \n",
    "    with open(file_path, 'r') as fp:\n",
    "        data = json.load(fp)\n",
    "    \n",
    "    tc_list = []\n",
    "    \n",
    "    for i in data[\"results\"]: \n",
    "        try:\n",
    "            tc_list.append(i['alternatives'][0]['transcript'])\n",
    "        except:\n",
    "            pass\n",
    "    \n",
    "    result = ' '.join(tc_list)\n",
    "    \n",
    "    return result"
   ]
  },
  {
   "cell_type": "markdown",
   "id": "7a04f343",
   "metadata": {},
   "source": [
    "# Collect file names and path name to parse"
   ]
  },
  {
   "cell_type": "code",
   "execution_count": null,
   "id": "70ca5a0a",
   "metadata": {},
   "outputs": [],
   "source": [
    "# giving directory name\n",
    "folderdir = '/Volumes/Samsung_T5/cwiloejo/COLUMBIA SPOTIFY PODCAST/podcasts-no-audio-13GB/extract output/spotify-podcasts-2020/**/*.json'\n",
    "  \n",
    "# accesing and printing files in directory and subdirectory\n",
    "files_to_parse = [filename for filename in glob.glob(folderdir, recursive"
   ]
  },
  {
   "cell_type": "markdown",
   "id": "3d6c4736",
   "metadata": {},
   "source": [
    "# The Main Task: Parse and Save Spotify Episode URI"
   ]
  },
  {
   "cell_type": "code",
   "execution_count": null,
   "id": "31c4e4ec",
   "metadata": {},
   "outputs": [],
   "source": [
    "episode_transcript = {}\n",
    "total_files = len(files_to_parse)\n",
    "for idx, file in enumerate(files_to_parse): \n",
    "    episode_name = file.split('/')[-1].split('.')[0]\n",
    "    episode_transcript[episode_name] = transcript_parser(file)"
   ]
  },
  {
   "cell_type": "code",
   "execution_count": null,
   "id": "61526711",
   "metadata": {},
   "outputs": [],
   "source": [
    "dat = pd.DataFrame(episode_transcript.items(), columns=['episode', 'transcript'])\n",
    "dat.head()"
   ]
  },
  {
   "cell_type": "markdown",
   "id": "8b4c8817",
   "metadata": {},
   "source": [
    "\tepisode\ttranscript\n",
    "0\t399kdfMnjw0KYANZU7CQJ0\tIt's the mother back a podcast. Well that was ...\n",
    "1\t49wcMBeJfaaL6KFFdsWvac\tIf you haven't heard about anchor is the easie...\n",
    "2\t0JOymLFsRdeBVZbEA72ayj\tHello and welcome to the podcast the first eve...\n",
    "3\t1WosITIkpJemzZaPh8zAVb\tThis is the planetary potential podcast for th...\n",
    "4\t7sHyO8wLeEd1LuxfS8AIls\tHey, hey. Hey. Hey. Hey, this is your girl Jen...\n"
   ]
  },
  {
   "cell_type": "code",
   "execution_count": null,
   "id": "f55ca69f",
   "metadata": {},
   "outputs": [],
   "source": [
    "dat.to_csv('../script_output/episode_transcript_data.csv')"
   ]
  },
  {
   "cell_type": "code",
   "execution_count": null,
   "id": "6f14fab1",
   "metadata": {},
   "outputs": [],
   "source": [
    "dat = pd.read_csv('../script_output/episode_transcript_data.csv')\n",
    "dat.head()"
   ]
  },
  {
   "cell_type": "markdown",
   "id": "42fbdfbc",
   "metadata": {},
   "source": [
    "Unnamed: 0\tepisode\ttranscript\n",
    "0\t0\t399kdfMnjw0KYANZU7CQJ0\tIt's the mother back a podcast. Well that was ...\n",
    "1\t1\t49wcMBeJfaaL6KFFdsWvac\tIf you haven't heard about anchor is the easie...\n",
    "2\t2\t0JOymLFsRdeBVZbEA72ayj\tHello and welcome to the podcast the first eve...\n",
    "3\t3\t1WosITIkpJemzZaPh8zAVb\tThis is the planetary potential podcast for th...\n",
    "4\t4\t7sHyO8wLeEd1LuxfS8AIls\tHey, hey. Hey. Hey. Hey, this is your girl Jen..."
   ]
  },
  {
   "cell_type": "code",
   "execution_count": null,
   "id": "a7b2b535",
   "metadata": {},
   "outputs": [],
   "source": [
    "dat.shape"
   ]
  },
  {
   "cell_type": "markdown",
   "id": "c9d06cb6",
   "metadata": {},
   "source": [
    "(105360, 3)"
   ]
  },
  {
   "cell_type": "code",
   "execution_count": null,
   "id": "269bc06e",
   "metadata": {},
   "outputs": [],
   "source": [
    "dat.head(20)"
   ]
  },
  {
   "cell_type": "markdown",
   "id": "2d51d487",
   "metadata": {},
   "source": [
    "Unnamed: 0\tepisode\ttranscript\n",
    "0\t0\t399kdfMnjw0KYANZU7CQJ0\tIt's the mother back a podcast. Well that was ...\n",
    "1\t1\t49wcMBeJfaaL6KFFdsWvac\tIf you haven't heard about anchor is the easie...\n",
    "2\t2\t0JOymLFsRdeBVZbEA72ayj\tHello and welcome to the podcast the first eve...\n",
    "3\t3\t1WosITIkpJemzZaPh8zAVb\tThis is the planetary potential podcast for th...\n",
    "4\t4\t7sHyO8wLeEd1LuxfS8AIls\tHey, hey. Hey. Hey. Hey, this is your girl Jen...\n",
    "5\t5\t73KvkRUvXwqCdnfOyY5iTU\tSo you've been a nurse for a little while you ...\n",
    "6\t6\t7KK2mH7bfO4uq64enTrJcC\tHi guys, welcome to episode 2 of students here...\n",
    "7\t7\t05t8GXGcOjphzlmHDasT29\tWelcome back to African and American this is e...\n",
    "8\t8\t0K69kSoYrheQslfDNz1hxv\tThis is episode 39 of African-American with yo...\n",
    "9\t9\t0jPGdnhJTjnTmCvD363bB1\tHappy 2019 and welcome to episode 38 of Africa...\n",
    "10\t10\t0sRJXuFO0pgETR5Nym3C3p\tThis is episode 42 of African and American wit...\n",
    "11\t11\t2L4YhRDwT7T37nKIDtE4AJ\tWelcome to episode 52 of African and American ...\n",
    "12\t12\t2mp1m72EWuSqM2TBlbNjHw\tThis is episode 45 of African and American wit...\n",
    "13\t13\t3t9d2ocT8HEOpD06WM5d8j\tWelcome to episode 56 of African and American ...\n",
    "14\t14\t4ZDonqD7CIAJVcinfq4m3d\tWelcome to episode 50 of African and American ...\n",
    "15\t15\t4bXvWi0EQf8PpvSZ2pQ9Ks\tThis is episode 54 of African and American wit...\n",
    "16\t16\t4mCLyXlW761XKfSBdxVN9j\tWelcome to episode 46 of African and American ...\n",
    "17\t17\t5DcobCZeZhdM8tngoL0bLm\tThis is episode 51 of African and American wit...\n",
    "18\t18\t5Wgfsg4YYCUT0BOLpb7Sm2\tWelcome to episode 53 of African and American ...\n",
    "19\t19\t5XClaZR7DxYx0T5AQvoNde\tThis is episode 46 of African and American wit...\n"
   ]
  },
  {
   "cell_type": "markdown",
   "id": "e5c50ab7",
   "metadata": {},
   "source": [
    "# Left join to metadata for more context when processing in Spark or RStudio"
   ]
  },
  {
   "cell_type": "code",
   "execution_count": null,
   "id": "aebea6e5",
   "metadata": {},
   "outputs": [],
   "source": [
    "metadata = pd.read_csv(\"../podcasts-no-audio-13GB/metadata.tsv\", sep='\\t')\n",
    "metadata.head()"
   ]
  },
  {
   "cell_type": "markdown",
   "id": "5a2ee6a4",
   "metadata": {},
   "source": [
    "show_uri\tshow_name\tshow_description\tpublisher\tlanguage\trss_link\tepisode_uri\tepisode_name\tepisode_description\tduration\tshow_filename_prefix\tepisode_filename_prefix\n",
    "0\tspotify:show:2NYtxEZyYelR6RMKmjfPLB\tKream in your Koffee\tA 20-something blunt female takes on the world...\tKatie Houle\t['en']\thttps://anchor.fm/s/11b84b68/podcast/rss\tspotify:episode:000A9sRBYdVh66csG2qEdj\t1: It’s Christmas Time!\tOn the first ever episode of Kream in your Kof...\t12.700133\tshow_2NYtxEZyYelR6RMKmjfPLB\t000A9sRBYdVh66csG2qEdj\n",
    "1\tspotify:show:15iWCbU7QoO23EndPEO6aN\tMorning Cup Of Murder\tEver wonder what murder took place on today in...\tMorning Cup Of Murder\t['en']\thttps://anchor.fm/s/b07181c/podcast/rss\tspotify:episode:000HP8n3hNIfglT2wSI2cA\tThe Goleta Postal Facility shootings- January ...\tSee something, say something. It’s a mantra ma...\t6.019383\tshow_15iWCbU7QoO23EndPEO6aN\t000HP8n3hNIfglT2wSI2cA\n",
    "2\tspotify:show:6vZRgUFTYwbAA79UNCADr4\tInside The 18 : A Podcast for Goalkeepers by G...\tInside the 18 is your source for all things Go...\tInside the 18 GK Media\t['en']\thttps://anchor.fm/s/81a072c/podcast/rss\tspotify:episode:001UfOruzkA3Bn1SPjcdfa\tEp.36 - Incorporating a Singular Goalkeeping C...\tToday’s episode is a sit down Michael and Omar...\t43.616333\tshow_6vZRgUFTYwbAA79UNCADr4\t001UfOruzkA3Bn1SPjcdfa\n",
    "3\tspotify:show:5BvKEjaMSuvUsGROGi2S7s\tArrowhead Live!\tYour favorite podcast for everything @Chiefs! ...\tArrowhead Live!\t['en-US']\thttps://anchor.fm/s/917dba4/podcast/rss\tspotify:episode:001i89SvIQgDuuyC53hfBm\tEpisode 1: Arrowhead Live! Debut\tJoin us as we take a look at all current Chief...\t58.189200\tshow_5BvKEjaMSuvUsGROGi2S7s\t001i89SvIQgDuuyC53hfBm\n",
    "4\tspotify:show:7w3h3umpH74veEJcbE6xf4\tFBoL\tThe comedy podcast about toxic characters, wri...\tEmily Edwards\t['en']\thttps://www.fuckboisoflit.com/episodes?format=rss\tspotify:episode:0025RWNwe2lnp6HcnfzwzG\tThe Lion, The Witch, And The Wardrobe - Ashley...\tThe modern morality tail of how to stay good f...\t51.782050\tshow_7w3h3umpH74veEJcbE6xf4\t0025RWNwe2lnp6HcnfzwzG\n"
   ]
  },
  {
   "cell_type": "code",
   "execution_count": null,
   "id": "2a199bc3",
   "metadata": {},
   "outputs": [],
   "source": [
    "metadata_w_transcript = metadata.merge(dat, how = 'left', left_on = 'episode_filename_prefix', right_on='episode')\n",
    "metadata_w_transcript.head()"
   ]
  },
  {
   "cell_type": "code",
   "execution_count": null,
   "id": "b1bb9877",
   "metadata": {},
   "outputs": [],
   "source": [
    "metadata_w_transcript.to_csv('../script_output/episode_transcript_data_w_metadata.csv', index = True, index_label = 'index')"
   ]
  },
  {
   "cell_type": "markdown",
   "id": "34011057",
   "metadata": {},
   "source": [
    "# Transcript Sample Output"
   ]
  },
  {
   "cell_type": "code",
   "execution_count": null,
   "id": "768dfc69",
   "metadata": {},
   "outputs": [],
   "source": [
    "metadata_w_transcript.transcript.tolist()[2]"
   ]
  },
  {
   "cell_type": "markdown",
   "id": "03998f70",
   "metadata": {},
   "source": [
    "\"Welcome to inside the 18. Today's episode is the sit down from the United Soccer Coaches convention with former US Men's National Team and former u.s. Women's National Team goalkeeper coach Phil weddin filled discusses how he started the international goalkeeper coaches conference what the US needs to do in order to create a successful goalkeeping curriculum across the entire United States and he gives his best advice to Young goalkeepers and goalkeeper coaches for me. This is by far one of my favorite episodes from the convention and I'm super excited for you guys to hear it. Make sure to follow inside the ATM on both.  Apple podcast and on Spotify and last but not least. Don't forget to leave us a rating and a comment to let us know how we're doing. Once again. Here's Phil wedding.  Welcome to inside the 18 live at United Soccer Coaches convention. Why does a Sokka like I'm Bostonian sometimes all of a sudden my dad is from Boston, but that sounded really interesting the way I did that Sokka convention United Soccer Coaches convention the afternoon sessions after the nwsl draft. We've been having a fantastic time here. I'm Michael Majid with me. Obviously Omar zini with his microphone is far away.  Away from him as possible. Oh and we're using the exact same microphone. That's good. We have a special guest with us today because that's what we do at a live Coaches convention is find better coaches than ourselves to get on the podcast. So with us today is Phil wedding. He's the head of the international goalkeeper coaches conference. I always I can never get that right igcc. Obviously fantastic resume as a goalkeeper coach, obviously us.  Women's National Team programs. It's worked with MLS as worked at all. The highest levels Phil. Thanks for being on inside the 18. Thanks very much for having me. I'm looking forward to having a brief chat here. Hopefully I can come up with a few jokes as well. Just to keep things going. You know, honestly. I was just telling I was telling everybody that I'm like, you know, this is just gonna be like us last night. Basically for those of you guys unfamiliar, which is everybody here has no idea what I'm talking about after feels incredible session last night. We all went to Katie O'Shea's bar and we all hung out the goalkeepers.  Onion style round robin style until people could no longer drink and and then that's when we that's when we left and it was a fantastic time and I said, you know what this is just basically what you're going to do tomorrow only with a microphone. He's like, yeah, I'm in for that. That sounds yeah. Yeah, you're drinking Waters a and I'm a you know, honestly last night when you were in a Boston hat so don't know you're right. Yeah, right so that totally works. I think that totally works so far. I've been having fun so far obviously you've been to a lot of conventions which how many conventions you been to now I think 10 or 12 cents.  Over these over the course of time. I've missed a couple here and there but you know, it's always great to come to these events because you see people that you haven't seen in so many years you reconnect with people. It's a place where a lot of coaches find opportunity as well. It's also a great way to share information and knowledge you cut you come in with the one that one set of ideals and beliefs and oftentimes, you'll leave with a better set or revamp set of ideas. So it's a great situation to come to this and the way I know that you've had experience doing this as  That after last night session you had lost your voice and by today completely back completely back which means you've you're a veteran of this. Yeah, unfortunately, sometimes when you when you're not on the field with a microphone for for a while, you lose your voice. So yeah happened to me last night and some people would say that be actually a blessing but you know, yeah the session I thought went really well and it was great to have so many of the goalkeeper Union there to support me. But one thing I definitely really appreciate it after the session yesterday.  You asked all the coaches to kind of give you some recommendations on what they saw and you know, it's just you as someone at your level and you've done it for so long. It's like crazy to believe that you'd still ask other coaches for advice and like you said earlier you come to the convention with some certain set of ideals and then you leave would like not refined but like, you know, even more advanced because the coaching is the coaches around here you pick their brain and stuff like that. So I thought that was really cool to see even about you know as a young coach now, I see somebody at your statute your level and you doing that it rubs off really well on me. So thank you for that. No, I'm pretty  He said that but the thing for me is we're always learning. The game is always evolving. So we have to evolve as coaches and you're in the conversations that you have with other goalkeeper coaches. There isn't one right way or one wrong way to do it. It's you know, you may see something from the session last night say, oh I'll move the goals this way or I would serve it here or I would use a rebounder or you'd come up with different ideas. And that's why I asked for feedback because if someone has something that they feel is valuable. I want to know because I want to get better and that's what that's what coaching is about is about  Sharing ideas and adapting what you see to fit the level of the athletes you working with Phil. I'm glad that you brought up rebounder because we have a giant rebounder in the back here. We need to give it to somebody that Pro deflect over there. We've got these catalogs here and they're like, yeah, you know, once you try to sell that thing, I'm like, I don't even think somebody could get this out of the building. He's like, you should set it up set it up somewhere in the front. I'm like, no one would literally be able to see us we would be behind the pro deflect like this and then people be like trying to Strike balls at us. It would not go well.  No, everything resonated with me with what you said last night because nothing tells me that somebody is a high-level coach then when they get off the field saying what can I do to improve this session as opposed to what did you think of my session huh? And that that's that's professionalism in my opinion, you know again look at like I said, the goalkeeping side of things is so in depth and everyone has a own way of doing things and like I said, I don't think there's a right or wrong way.  The end of the day of the Bulls night in the back of the net with the goalkeepers have done their job if we've had some small parts of playing that that then great but I want to get better. You know that I don't think there's a limit to what you can learn and how you can change things. If you look at all the information that's coming out of Europe right now on the blocking and the spreading and all those things. You know, I think we've all got to learn we've all got to keep adapting and that's what I look forward to doing. Yeah, you know speaking of education and getting better you obviously run the igcc before  Or that you didn't involved in various, you know educational programs. I believe you had been an instructor for the u.s. National goalkeeping license for u.s. Soccer. Can you tell us how igcc began and that is a total tongue twister? For those of you guys who have not heard the edit it took me about three times to say that it's difficult, but it's impressive. So tell us a little bit about yeah. So, you know, I was fortunate enough to be involved with us soccer both on the men's side of the women's side for a long time. I was also  Lucky enough to work with the gentleman by the name of Peter Miller who is a goalkeeping legend in the US and actually in England, he played in England. I would say that he was my mentor and he invited me in 2006 which dates me a little bit to become part of the coaching education platform with us goalkeeping. So there was a u.s. Goalkeeper National goalkeeper license that ran from 2006 to 2015.  In January 15, I think was the last one and then nothing happened. So I started to think well, how can I develop where can I go to see other coaches work and learn from other people. So I actually went to a conference myself in Holland. It was called the Bilderberg International goalkeeper coaches conference is run by a gentleman by the name of Martin arts. And I had a conversation with Martin and I thought well how cool would it be to actually do this in the u.s. Because there wasn't an opportunity to learn?  From other other coaches, so I approached my sponsors. I approached quick goal who have been a fantastic in their support me and I approach your sport who also support me and we put together the igcc 2016 was the first time and you know, it's been growing ever since so it's really an opportunity for coaches around the country and internationally and we have people come from Dubai come from the Maldives coming from wherever  it's an opportunity for coaches to learn from other professional coaches. So it's really a once it's the only opportunity like that in America at the moment and it allows people to go to Florida. Yeah, you know Flo Florida is also and you know, there are many drawbacks of Florida. So yeah, you can pop down there come to the igcc and then pop off see Minnie and Mickey and Donald and Pluto, you know, I am glad that you said the reason they did not discontinue the u.s. Goalkeeping licenses because after  I took it. It wasn't like US soccer. Like Tim mulqueen came back to the moment. Listen, we can't keep letting people like that into this thing. We have to make it more of a pro license. No, I like what you guys do because the educational purpose of it and also the international flavor to it, you know, it's not just the same people over and over again with the same voice you're getting different voices from all over the world. So is that what makes igc unique in the Americas? Yeah, I think so, you know the thing that's  Again, just going back to my philosophy a little bit. I don't think there's a right and a wrong way and that's why having these people from different parts of the world to present and share the information and share their experience and their knowledge is critical because you can take something from say a mikkel reckon who works at hoffenheim. You can take something from him in Germany. You could take something from Andrew Sparks who is in works for the Orlando pirates in South Africa, and then you can take something from John actor Berg from Liverpool or from wherever so and then you put it  Inform your own style. So that's what's so valuable about it. You know the first time I met Andrew Sparks, he was 21 years old and I hated him because I was like, how is this guy so good. So young he was like a product in his hair is always perfect. Always perfect. He's good-looking dude. It was just everything about him was just like why and he was a smaller keeper and he was better than me as just I don't like know. I love Andrew Sparks. I actually follow him religiously online and I wish Sparks he was here, you know at convention. I know he wishes he was here as  Well, yeah, absolutely. No, so now I think Omar has a few things that he wants to talk to you about because I've been hogging the microphone completely. He's actually like know you could keep going. You know, let's talk about some of the variables in regards to developing a curriculum because we talked about this a little bit last night during our goalkeeper Seance. I'd like to call it and we were talking about you were saying you would love to see you a soccer put together an actual curriculum that people actually follow and so so talk a little bit about your methodology and why  I think this is so important for us as a country. Well again, I think that has to be a profile that has to be something that we as goalkeeper coaches, whether we agree with it or disagree with it. We as goalkeeper coaches look at it and say okay. This is a model that on National program is looking for so what is the profile of full International goalkeeper was a profile over u-20 goalkeeper. How do we develop that profile? So goalkeeper coach is like ourselves could then say okay. I need to work on.  On this this and this to help Sarah or help Jeff gets at a level. They need to be at so developing that type of curriculum that philosophy that profile I think is essential just as a starting point and it takes a tremendous amount of Bravery to do that because obviously after the session last night, I got battered partly because my left foot but, you know, you get battered after every session do because in in the world of goalkeeping everyone can always do your job better. So it takes  It would take a tremendous amount of courage to do it. But I think it's necessary to do it so that we can all develop see now. You haven't seen my weak foot trust me. You did not get battered. If you saw my weekly that's almost told me all about. So let's talk about this though. Like we want to incorporate one curriculum into this country. This is a vast country unlike, you know, Western Europe or some of the you know, smaller countries where they have like, let's take the Netherlands. For example, very easy to put our curriculum together when you got a small country nowadays is  Vast and obviously people come from all different walks of life and they're very opinionated in their point of view on how something should be done. So is it impractical for us to believe that this can be done here is non-prime school, but I don't think it's a job for one person and I think that's essential. It can't be one person's philosophy. It has to be a collaboration and there are so many great goalkeeper in mines in this country that that should be utilized and and are underutilized.  So if we could collaborate with ex-players, you know X national team players some of the goalkeeping Legends are out there, you know, the damn Gas bars and people like that that have the experience of working internationally and come up with a profile and then it needs to be implemented but not just by one person by a by a collective group of people. I mean quite honestly and and you know, I've I'm a huge fan of your soccer. The the national team program has been exceptionally good to me and I'm  I'm a massive massive supporter, but we don't have anyone in charge of goalkeeping Education when I was in England recently. They have fired they had five full-time goalkeeper coaches just just on the men's side, but they also had that they also had responsibilities within coaching education. So here we are competing with a country. That's the size of say Pennsylvania or something like that and they have five people just on the men's side.  And they also have similar numbers on the women's side of the game. So now you're talking about between 5 and 10, maybe even 15 and they have goalkeeping Scouts. By the way, they have all these numbers of people all identifying goalkeepers all working on goalkeeper curriculum all following the same message so that their goalkeeper coaches throughout the country can then impart the same message and and and philosophy so it can be done but it's not a job for one person and I really feel like we as goalkeeper coaches need direction is in the  Country, I think a lot of what you're saying right there just showcases the difference in attitude. And then you know, I'm joking and saying that like, you know, the goalkeeper of the Year award FIFA goalkeeper of the Year award is coming home, you know both on the men and women side, but it really sounds like they're really investing their time into it. So, you know, you see the Jordan pickford's you see the Angus guns coming out of the national team program in you know, England and that's not just by coincidence. No, it's all you know, and I've been fortunate.  Have to be involved in a recent camp in England. They are they are pushing this development at every age group and every coach is on board and is fantastic, you know is it's a method that again would be great for us to install in this country at whatever level it could be. Maybe it needs to be at individual MLS clubs and nwsl clubs and filter that down. Maybe it needs to be the National Team level, but it certainly can be done and and you're seeing the results of their educational system with  The success that the English youth national teams have had so let's talk about that a little bit and Omar at some point. You're going to interject because otherwise I will not let you talk. You did not get your wow on camera, by the way because you turned your head you went wow like that. Nobody could see that other than on the YouTube thing here, but if you're listening to the podcast, but let's let's I'm going to give you a second, but I want to get to this right now because it's very important. We were talking about the physical attributes last night. Yes, we were and we were there with a goalkeeper very accomplished John.  Yeah, who was a different physical attributes than let's say Brad? Who's on right? Okay. Yeah, obviously both came through the US soccer system. Both very accomplished well-respected goalkeepers, Jordan Pickford Angus gun two completely different types of physical attributes to what is the fa doing to incorporate their curriculum, but yet still take into consideration different physical attributes of a goalkeeper. Well, they have a goal keep in DNA. So they've identified  I'd and tributes they would each goalkeeper is profiled this with this is what we're looking for. If they are say for example, if they are under sized if there is such a thing as being undersized for a national team goalkeeper, they have to have a certain exceptional quality. So if you look at John and Pete Pickford, you might say yeah. Well, he's a little shorter than I can David the hair or something like that. But what's his exceptional quality he distribution is out of this world, so  What are looking at both on the men's side and women side? So while they have this DNA and they have ideas of what they're looking for. There's also this special quality that they're goalkeepers have to have you have a specific idea for a goalkeeper. Indeterminate DNA. Like what's your when you see somebody how do you size them up or what? Is it that you enjoy seeing the most out of them? Well as modern times and all that. Yeah. Well, mommy your hair is perfect. You know, you've got this designer stubble going, you know, you've got a lot going for you. I think maybe maybe you might fit this.  Profile. It's the product of the LA Galaxy Academy. That's that's what happens there. It's all it's all about looks there. No. No, I think you know, obviously you have to the physical nature of the position is such that but on the men's side of the women's side, you have to fit a certain characteristic so hides hides his important obviously strength is important the technical aspects and you can break it down into the four pillars or five pillars that technical tactical physical psychological.  And then you've got a social aspect as well as as Michael here checks his phone. I didn't text you. No. No, that's a socialite. No, I was just what I want to make sure we're not giving taking away too much time from okay. That's why I was what it was. Yeah. Absolutely. It was had nothing to do with the fact that Tyler stelter from stir Ellie was texting me. What about the Emojis? Okay. I talked to Daryl and Taylor Total Soccer show because they haven't they have an opinion about me with the Emojis. Okay. Alright when we went on tour.  This summer smiley face after everything party favors. I have a I have a condition. I have a question for you how important I have a lot of kids who are listening and watching this. I'm going to show it to him. How important is it for young goalkeepers to be active in the game, you know after the game a lot of kids will, you know, take off their gloves to whatever they don't even watch soccer anymore. They're done it only they show up to practice and that's it. How important is them for to watch the EPL that he gets to see how these other goalkeepers like the day has not as always guys how the different styles how to implement  Then incorporate their Styles into their game, I feel like as a kid I used to wake up before we had TV. I used to wake up early. Watch Arsenal games every single week see Layman see my God. There's a guy with the Nike language. I used to watch those guys in the morning and I used to say, wow. I love how he's gonna get his defense. I love always sets up the wall and I take it to my game. So how important is that in terms of goalkeeping education. Do you feel for the younger people people? I feel like the young goalkeeper needs to watch the game. We've got to be students of the game. You can't just play a game on Saturday Sunday and then forget about it until practice ideally.  They could watch their own performance and get that type of feedback. That would be ideal. But watching we've got to be careful with the watching other goalkeepers. And I think we do need to watch soccer. We do need to watch more and more games. But what you'll see then is you'll see these professional goalkeepers that are making both on the men's side of women's side making emergency type saves. So the blocking is spreading and all that and now that's sexy and fashionable. So they'll be doing those types of sales that we making those types of saves in  Situations and then well, hold on a second. Ashlyn Harris did that or listener did that or David the head that and then we've got to be careful. So I think it's critical that they watch and learn if they could if goalkeeper coaches out there can provide them provide their goalkeepers with video of themselves. Perfect. That's fantastic but watching and learning from others and learning when and how to do these techniques I think would be fantastic at the igcc do you guys offer?  That as like a not a prerequisite but you talked to the goalkeeper coach as you say this is something we recommend you do with your goalkeepers. Let's show you a little bit of film and then let's break it down for them is that you guys do that at all the Fantastic thing about the people that come into the presenters are come to the conference. For example that Michael reckoner will be there this year from hoffenheim and he will bring video of his goalkeepers in hoffenheim and he'll talk through this these situations and watch this is why we did this and this is how we do this. So absolutely we break down.  Video will force enough to have Eric steal who's a goalkeeping legend. He's been he was there for two years and the stories and the video and the explanation of the the who the why the when and the how of all these goalkeepers that are well known. Yeah that that's that's invaluable. And that's something that we absolutely do preach at the igcc. Yeah. One thing that I want to bring up is we're talking about developing a curriculum and implementing it, you know,  one one thing and we talked about it with Joe Lloyd and obviously this morning and we again we talked about the block safe because it seems to be that one topic that really leads to this conversation because a lot of people are teaching it and they don't know how to present it to the players in a way that they understand when in a game this is useful and we talked about the fact that everything we need to train our goalkeeper coach is to understand how to convey Vermeer information to somebody that's game relatable. Absolutely. It's not game relatable than  Just training so you can train all you want the blocking but if they don't know how to use it in a game so typesetting you can't and one thing that I love about what I've seen about the igcc is every activity whether it's the beginning warm up all the way through the progression is all game-related and it just it just builds and builds and builds and builds and builds and I think that's the type of curriculum we need in this country because I see too many trainers not enough coach young and making it game related.  All is critical. The thing that I would add to that is we're going to add angles to that. So I see a lot of this blocking stuff. I see a lot of you know, social media is blown up on it. As you know, if you can go on Instagram or whatever and you can see fifty thousand different people doing it. The thing that I would encourage is and you talked about making it relatable to the game. How often does it's this blocking in spreading come straight on and yet that's what you see on on Instagram and everything else is all these people coming straight on well that very rarely happens. It's  See when it touches at an angle and you're trying to almost cover some ground or an emergency safe. So making it relatable in our training from angles and having players running and having Defenders and having rebounds and all those types of things are critical we talked about it last night. It's essentially the the 2018 or 2019 version of the Cobra of coming out spreading yourself and you know back then the Cobra was obviously he's going down and smothering the ball. Now you're staying higher but it's essentially the same angle run that you're making to cover that.  Ace and you do I see how many 12 13 year-olds ball comes in a 1v1. They don't stay in a compact shape and stay high and wait until the player makes a move they spread themselves and then the ball gets slotted underneath them are lifted right over them, you know, so it's all about timing. It's all about the right approach. It's all about the Technical Training as well. And again as we talked about last night's the physical dimensions that are goalkeeper, you know, I'm tall and slow so, you know, maybe I would need to stand higher and maybe make a blocking save or use my feet. You're not quite as  Vertically gifted as I am. So maybe maybe you would be blocking. Maybe you'd be quicker or sorry. Maybe you would be quicker going down and making a cobra. You know that smothering Cobra say well using more of a technical sales per se I'm gonna ask you a question a little bit away from all this. No. No, it's just in terms of development. So my younger kids when I was first getting into coaching I would do a lot more of just kind of try and do more game related stuff and I realized that I wasn't getting the quality that I wanted just because the younger kids  I don't want to bash them with goals and get their confidence low. So what I've started to do and I wanted to record I wanted to ask you if it's we recommend this other coaches. I started doing more of like I do an hour session more like 40 minutes more of the technical side keeps them. They don't basic techniques and then the last 20 minutes we go full on like no no take off the training wheels we go on and do more actual game like scenarios. So now we can kind of implement those technical aspects into the Tactical side. Do you feel like that's a good way to develop a younger goalkeeper or do you feel like just throw?  Throw them into more game Mike Sanders let them learn. So again, if you follow a simple my simple pattern for a session would be simple to complex. So for young for young goalkeepers, I think sometimes you have to take away the consequence of conceding a goal because that element of failure if it happens over and over and over again, you're destroying a child's confidence and that's massively important as you know for goalkeepers because we're all fragile now, so  For a training session simple to complex and I would add I mean you could you could start out of gold. So there was no consequence and then build into goal and then just make that end product as you said made the end product far more functional and game-related and for goalkeeper coaches as well or sorry for younger goalkeepers as well when they get into, you know certain levels that require more of them their goalkeeper coach is obviously have to prepare them for that stuff. So I just feel like, you know a lot of coaches they don't it.  Of with their goalkeepers, they try and keep it very very simplified and then as they get older it kind of hurts the goalkeeper in the long run because they don't slowly progress them into that next level and I'm sure now go ahead I don't know I'm saying like, you know as a coach yourself you just playing in so many years. It's like you said, it's just constantly evolving as a coach is the new parts of the game. You're always trying to learn and bring the best your goalkeepers, which is why the conference I feel like it's super beneficial for coaches to go learn as much as they can then bring it back to their goal Keepers and everyone benefits.  Yeah, I think you know and as Michael you touched on goalkeeper trainers versus goalkeeper coaches, you know, and that's that's the thing. We can pick people off the street and going smash balls, you know, if we could pick any coach here at this convention and say hey, it goes smashing balls at our goal Keepers and they might say you've got to move your feet quicker or go to get your hands to the ball or whatever it may be. But but well, I'll even take it further. I mean, I don't want to interject here. But the thing is I you can they can literally watch your session last night.  Hand that to them and say do this without them understanding and as long as you give them a step-by-step of what to do, they could run that session do they know why they're running that session and can they convey that information to those kids? So they understand why they're doing it. That's what makes a coach in my opinion. Yeah, absolutely. So it's the Y and as the the five W's who what when where and why so why are you doing it who's involved? When does it happen? You know, all those things become critically important.  And as a goalkeeper coach as your sign on my you've got a relay that information, you know or layer in even with the goalkeepers that you work with from a young age so they can understand what when you do this why you do it, you know, and and we're on the field. So it's taking the goalkeepers to the next level is massively important. It doesn't end with 10 volleys into the hands and you're done. Okay. Now now go play you've done as a goalkeeper coach. You better get behind the goal and coaching within the goal as well one.  That I think is really concerning and I want all the coaches out here to here and listen to people like Phil if you don't listen to myself or Omar, but how many kids I've gotten who literally only learned basic footwork and handling because that's all their coach ever worked on with them. Yeah, and and again a young ages that that's massively important. You've got to have a technical Foundation, but then we got to progress them. We have to progress on because the technical foundation without a technical Foundation. You're not even going to get into a good position. So within that 10  Uncle Foundation is the efficiency of movement is angle play is basic angles and we must make sure that all our young goalkeepers know the angles know their basic techniques so that we can advance them but having said that we've also got advancement of soccer players because obviously now the Modern Trend of the game is a goalkeeper with the ball at their feet XI field player and has something my mentor Peter Melo has been talking about for years and years is the integration of the goalkeeper into  Team and how important it is that we as goalkeeper coaches are able to coach the team and work with the back for and integrate the goalkeeper because now distribution and playing and a defensive schemes and everything else becomes so Paramount in the success of the goalkeepers the success of the team, that's the great videos that I've seen on about igcc that I love the most is in its handling to distribution. It's not just handling distribution separate its handling to distribution or distribution to handling.  When there's a breakdown in mistake, and now there's a shot on goal or you play or shot on goal. Then you play the ball out but everything is all related to you know, having the ball and not having the ball, which is my favorite part of yeah, and I would encourage coaches out there. It's have a feeling of when you do an exercise. Where does that exercise start? What where does it start from? So where's the exercise start from and why right and what's the end product? So when the ball is hit the goalkeeper if their end product is I Chuck it in the back of the net and I take it.  One we might have a bit of a problem. So actually having the distribution of transitional aspect to it. We asked our field place to do that all the time when the ball transition forward. Well, the goal keeper isn't is another extension of that. So when the ball possess the ball transition forward and that's why the distribution aspect is important. Yeah real quick fill before we move on. Oh, no mom's got something to say. I just saw his face. That was my favorite part. I was like real quick fill before you move on. He's like no no get it. Hey, you're the one editing this haircut.  No, no, no quick what I liked about your session a lot yesterday was the progressions and a lot of you started with one part of the drill. Then you I the way I think about it like activation one activation to activation three, then you go. Then you go drill one drill. That's how I am. I one of my series that I'm filming right now for my YouTube channel. That's what I've been doing. More of I talked to one of the keepers and he gave me some feedback and he was like dude you're throwing us into these into these drills Without Really warming us up. Of course. I got a little upset about I'm like no. No, I know what I'm doing. Then I was like, you know what? No. No, I got to have more activation activation than progressions progression bar. So when I saw your session yesterday reaffirm that  In my head, so I really gave me the understanding of like you got to progressively get these guys ready to hit those, you know, harder shots and get those, you know, the mechanics and proper mechanics that you're going to implement and introduced in the beginning and then they're going to reappear later on in the session which was really good. Yeah. So, you know, if you notice his last night two goals, I actually had three cones that marks the six-yard box for both goals. So minimal equipment. There was a mannequin in their side with the Foot Skills little bit of handing little bit of dive in Libya shot stopping.  And then that you've covered all the bases and you're ready to go. So are you doing Technical Training? Yes, is it an angle? Yes, is it functional? Yes, so, you know, so yeah, the activation part was all within the same setup and then you make it functional as quickly as possible when you have so younger kids who were listening and who want to become successful goalkeepers. What is your best two or three pieces of advice to give them to start working on it. Now number one is never stop learning you're going to have different goalkeeper. Coach has not one is right. Not one is wrong. Take a piece from every session take a piece from every  Coach put it together form your own style. Number two, I'd say we focus on Basics focus on the fundamentals of the game your bread and butter the things that you every goalkeeper needs. And then the other thing that I would say is take care of yourself. Take care of your body, make sure you're physically and mentally capable of playing and Performing because you never know who's watching. Let's just say you're all the knowledge you have now and you're starting over from square one as your first day of coaching any advice for young goalkeeper coach is out there anybody that is  just hopping into the game right now. Yeah, the thing the thing that we will do as goalkeeper coaches and I was partly kidding but it's serious goalkeeper coach is a brutal because everyone can always do your job better and oh he he misses or she didn't pick up on that. So everyone can do job better. I would say, you know, if I was trying out again, I would want to be more open-minded right from the start and pick everyone's brain someone that someone always has some valuable information that you can you can take and learn from so  I feel like when I was younger, I was very close. Well, not very close mind. I was a little bit more closed minded. So really taking every opportunity to learn. I love you everything you just said right there and it really goes back. I love you too, Michael it goes back to the maturity standpoint. I think obviously the longer you do something the more mature you become and the more humbled you become because you see what you're doing is really about them and not about you and I think as a  As a young coach I will talk about myself and I realized when I was a younger coach if I reflect back a lot of times sessions when I was young was trying to prove to the Deo see how great a goalkeeper coach. I was rather than about making that you nine making that you 10 the best goalkeeper. They can be for that time and for their ability level and sometimes it just takes growing up a little bit and I think to recognize that so if coaches really hear that to heart keep learning stay humble and one day you could  The igcc look I said it right first time at first time before we move on. What are the plans for the igcc in 2019? I know you guys are going on this year and its getting bigger and better than ever. Obviously we're talking about the hoffenheim performance. Yeah. So this year we've moved we moved location where the IMG Academy which is fantastic, you know, we're really excited to be there. Obviously. They have a brand new hotel the Legacy  Tell that's where we're going to be based the right now, we've announced for presenters. So we are running a stone from iac's so he works in a tri-axial Academy which is which is critical. We've got our people from different levels. So Renee is is a well-known coach and we're really excited to have him Sparks. He will be back. He's sort of been a Mainstay and the reason why sparks is back this year is because he's transitioned into a new role. He went from the Youth Academy at Swansea in  The first team at one of the top clubs in Africa that was that in itself is a documentary because that was an experience that I didn't I didn't see for see that coming in anyway whatsoever and I'm sure he's got stories about about that. And and so it's about growth as a coach and things like that. So so those those are experiences that he's going to share this year and then obviously I've talked to her Michael reckoner who Michael reckoner came to the igcc.  See in 2017 and was a massive massive success people loved his stuff. If you follow him and goalkeeping development online. His work is exceptional and I was fortunate enough to spend some time with him in England recently when they're preparing for their Champions League game against Manchester City and interactions. He has with his goalkeepers. I mean, it's such a unbelievable professional so having him and having him share his vision and everything this year again.  Be fantastic and then we've also got Jason grub who's director of goalkeeping for Houston Academy. Sorry for the Houston Dynamo. So Jason, I think the other thing that we're missing here sometimes is what goes on in America, but who's working in America? How do we get our goalkeepers to go from the youth teams into these academies and follow the progression into professional path? And Jason is an exceptional Kochi works with the Houston Dynamo.  So we're excited to have him and we'll be announcing a couple more presenters in a very near future. But again, they'll be presenters who work at different levels that again different areas that are game and have exceptional expertise and we have younger coaches that listen to the podcast. So how old do you have to be to go to the ICC over 18 over 18. So if you're 18 years old freshman in college or senior in high school getting ready to go to freshman year and you're thinking about getting involved in goalkeeper coaching check out the igcc. So anyway speaking of professional  Math, let's talk about that a little bit. Let's talk about the MLS superdraft going on tomorrow and WSL draft just happened today and let's talk about some of these goalkeepers were seeing all the news. Everyone's been talking about. The last couple weeks has been Canadian International youth International Dane st. Clair at Maryland. You've gotten a chance to see a lot of him. Yeah. I've seen him a few times obviously a very very talented goalkeeper. Athletically. He possesses all the older natural talent that you need.  And if you look at the speed of the game and everything else he obviously has the ability to keep up with the speed of game which is an essential is an essential component. When you're moving from college to a professional obviously the speed of the game speed of decision making everything else is something that will have to be developed but his skill set is such that I think it can be quite successful. I've been hearing anything from you know top five to somewhere in the first round, but but it's looking like it's going to be good and looking like because he's a generation Adidas.  He's got a good shot of make it a team. Yeah, absolutely. Obviously, the international small is something that is interesting. But being generation Adidas is a great move for him. So I think that you know, who's who knows where he's going to go in a draft but he'll definitely be competing for some time. I think now Omar. I know you've seen a little bit of a dance and Claire as well too, right? Yeah. No, I I've seen a few of his highlights. He's pretty good again. I would want those guys who are very athletic to obviously proved to us that  That technically they're also very sound and I feel like do some of his highlights. I can see that I guess when you go to a big club like our big school like Marilyn, you're not going to get as much action as you would see from my guys at Michigan State and stuff like that. So the highlights aren't haven't really convinced me that he's going to be, you know, like a Stephen exact stuff inside, you know, Jump Right In to be a starter and I've seen some bad habits. He has some of the highlights he's posted. He doesn't sometimes he doesn't take his dive all the way to the ground. He kind of like punches the ball that lands on his elbow a little bit kind of like braces as fall. So that's not something I'm worried about, but that's all  I have seen in three or four of the saves that he posted his highlight safe. So I'm hoping for the best for him and I'm sure put him in the right system with a rag goalkeeper coach. I think he'll be good with the Houston Dynamo the goalkeeper coach that I've watched some of his stuff online. He's pretty sharp. I like him a lot. Yeah, so I think you just hit the nail on the head a lot of these the transition into the professional game both in MLS and nwsl the transition is critical and a goalkeeper coaching component of it becomes even more important we can't  It's a always a young guy let him learn we've got to shoot. We've got to take him now and say let's teach him to be a professional and this is this is a situation that is unlike anything anywhere in the world where you come out of college at 21 22 and someone says, hey our professional. How about that? Right? You haven't earned the right to be a professional. Someone's got to take that's that's something I think that's often forgotten. So why don't people succeed in the nwsl or in the MLS? That's because sometimes we as coaches don't take them by the hand and say, okay.  This is what it means to be a professional. These are the things you need to do. But why is that Stephen going to be so successful? Well because he went he was in college. He went into a professional environment and learned how to be a professional came back to Columbus and was a professional. Yeah that time at Freiburg really really changed things for him didn't ya again? Because he he didn't necessarily have the success that he thought he was going to have so also humbles you and teach you the ins and outs of being a professional and it's not an easy path. So, you know,  Again, just come back to your point on my will come down to a lot of hand-holding and teaching the right way about goner way of going about things somebody who's actually gone from being at a Youth Academy at the professional ranks at hertha Berlin been wound from Akron University of Akron is now in the MLS superdraft, obviously, you know, a German international not as an international as a national team keeper, but I believe he was in the Youth System at some point. What do you think of Ben? He's obviously  Big Frame hid big specimen can cover a lot of ground any draft Pro potential there over the obviously, you know, again, the international spot is something that you've got to look at and unfortunately may go against him in to a certain degree but for someone like Ben I think he was it possesses. Obviously the physical attributes again will be adjusting to speed of play which his style of goalkeeping again is different. So where does that  that fit with the style of the head coach does that fit with a silent manager and I start of each team plays and that's something that's got to be looked at. But yeah another one who could certainly make an impact in the league. Yeah. Now I'm looking forward to to the superdraft tomorrow looks like you know, obviously the superdraft is a different animal than it used to be in years past but there's a lot of especially the Internationals always get a great opportunity with the superdraft because they're not they don't have the Homegrown, right?  From an MLs Academy or anything like that and nowadays with the USL two teams, you know, they have these opportunities to go there and play rather than sit as a third or fourth on an MLs roster, you know, absolutely. Yeah, and that's and that's a bounce again as a goalkeeper coach that is important. So we've got to have these the second choice goalkeeper or the third-choice goalkeeper, make sure that they're able to get game time. And then how do you manage as a goalkeeper coach, so that's how we get better. That's how we  One is by playing games and experience. So before we go Phil if anybody wants to go to igcc working, they reach out to you. Yes, it's they can email me is very simple fill at GK one.com or go to the website, which is international goalkeeper coaches.com, very simple there are discounts available. And obviously there are worse things in the world than being in Florida for a few days. Absolutely. And if anybody wants to reach you on social media, where's the best place to do it?  Either at Phil weddin both that and that's both Twitter and Instagram or at int lgk coaches. That's the handle. Okay? Okay, and you can reach me at LA goalkeeping Academy or at Michael Majid. I'm not going to put the comedy stuff on here because again, that's that's weird. That's just weird stuff Omar. Everyone can reach you at a pro GK Academy underscore on Instagram and pro GK Academy Number 7 9 13  In to to that's all the time. We got on inside the 18 two gay guys. Thanks again to fill wet and we're out. We'll see you after the draft later.\""
   ]
  }
 ],
 "metadata": {
  "kernelspec": {
   "display_name": "Python 3",
   "language": "python",
   "name": "python3"
  },
  "language_info": {
   "codemirror_mode": {
    "name": "ipython",
    "version": 3
   },
   "file_extension": ".py",
   "mimetype": "text/x-python",
   "name": "python",
   "nbconvert_exporter": "python",
   "pygments_lexer": "ipython3",
   "version": "3.8.5"
  }
 },
 "nbformat": 4,
 "nbformat_minor": 5
}
